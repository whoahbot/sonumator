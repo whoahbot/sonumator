{
 "cells": [
  {
   "cell_type": "markdown",
   "metadata": {},
   "source": [
    "# Multichannel Audio Capabilities"
   ]
  },
  {
   "cell_type": "markdown",
   "metadata": {},
   "source": [
    "In this notebook, we will explore the capabilities of fastai_audio to be expanded into a multi-channel implementation.  \n",
    "\n",
    "The data used is from the following challenge: http://c4dm.eecs.qmul.ac.uk/sceneseventschallenge/"
   ]
  },
  {
   "cell_type": "code",
   "execution_count": null,
   "metadata": {},
   "outputs": [],
   "source": [
    "%reload_ext autoreload\n",
    "%autoreload 2\n",
    "%matplotlib inline"
   ]
  },
  {
   "cell_type": "code",
   "execution_count": null,
   "metadata": {},
   "outputs": [],
   "source": [
    "import sys\n",
    "sys.path.append(\"..\")\n",
    "from audio import *"
   ]
  },
  {
   "cell_type": "code",
   "execution_count": null,
   "metadata": {},
   "outputs": [],
   "source": [
    "data_folder = datapath4file(\"scenes_stereo\")\n",
    "data_url = \"https://c4dm.eecs.qmul.ac.uk/rdr/bitstream/handle/123456789/29/scenes_stereo\"\n",
    "if not os.path.exists(data_folder): \n",
    "    filename = download_data(data_url, ext = \".zip\")\n",
    "    !unzip -q -j {str(filename)} -d {str(data_folder)} \n",
    "#Probably a better way to get this, but best I could think of\n",
    "label_pattern = lambda x: ''.join([letter for letter in str(x).split(\"/\")[-1].split(\".\")[0] if letter.isalpha()])"
   ]
  },
  {
   "cell_type": "code",
   "execution_count": null,
   "metadata": {},
   "outputs": [],
   "source": [
    "audios = AudioList.from_folder(data_folder)"
   ]
  },
  {
   "cell_type": "markdown",
   "metadata": {},
   "source": [
    "### Defaults"
   ]
  },
  {
   "cell_type": "markdown",
   "metadata": {},
   "source": [
    "By default, AudioConfig will have all of the same defaults as before, with the only exception being downmix which by default will be turned off with `downmix=False`.  So by default, if you have multi-channel audio, it will load each channel separately.  "
   ]
  },
  {
   "cell_type": "code",
   "execution_count": null,
   "metadata": {},
   "outputs": [],
   "source": [
    "config_default = AudioConfig()\n",
    "audios = AudioList.from_folder(data_folder, config=config_default)\n",
    "audios[1].show()"
   ]
  },
  {
   "cell_type": "markdown",
   "metadata": {},
   "source": [
    "### Downmixing"
   ]
  },
  {
   "cell_type": "markdown",
   "metadata": {},
   "source": [
    "### Mixed Channel Folder"
   ]
  },
  {
   "cell_type": "markdown",
   "metadata": {},
   "source": [
    "If their are multiple channel sizes in the folder, `downmix=True` should be used.  "
   ]
  },
  {
   "cell_type": "markdown",
   "metadata": {},
   "source": [
    "Previously fastai_audio handled multiple channels of audio by consolidating them all into a single channel. This is known as Downmixing and is still possible by setting the `downmix` flag to `True`.  This should also be done if your data has mixed numbers of channels."
   ]
  },
  {
   "cell_type": "code",
   "execution_count": null,
   "metadata": {},
   "outputs": [],
   "source": [
    "downmix_config = AudioConfig(downmix=False)\n",
    "audios = AudioList.from_folder(\"../data/misc/6-channel-multichannel/\", config=downmix_config).split_none().label_from_func(label_pattern)"
   ]
  },
  {
   "cell_type": "code",
   "execution_count": null,
   "metadata": {},
   "outputs": [],
   "source": [
    "audios"
   ]
  },
  {
   "cell_type": "code",
   "execution_count": null,
   "metadata": {},
   "outputs": [],
   "source": [
    "audios.config._nchannels"
   ]
  },
  {
   "cell_type": "code",
   "execution_count": null,
   "metadata": {},
   "outputs": [],
   "source": [
    "config_downmix = AudioConfig(downmix=True)\n",
    "audios = AudioList.from_folder(\"../data/misc/6-channel-multichannel/\", config=config_downmix).split_none().label_from_func(label_pattern)"
   ]
  },
  {
   "cell_type": "code",
   "execution_count": null,
   "metadata": {},
   "outputs": [],
   "source": [
    "audios.config._nchannels"
   ]
  },
  {
   "cell_type": "markdown",
   "metadata": {},
   "source": [
    "### Remove Silence"
   ]
  },
  {
   "cell_type": "markdown",
   "metadata": {},
   "source": [
    "Removing silence still works in a similar way as the old remove silence works.  If you have multi-channel audio, it will look for silence accross all of your channels.  This keeps all of the channels on the same time spectrum.  `all`, `trim`, and `split` are all options for `remove_silence`. "
   ]
  },
  {
   "cell_type": "markdown",
   "metadata": {},
   "source": [
    "##### All"
   ]
  },
  {
   "cell_type": "code",
   "execution_count": null,
   "metadata": {
    "scrolled": true
   },
   "outputs": [],
   "source": [
    "config_rs = AudioConfig(remove_silence=\"all\")\n",
    "audios = AudioList.from_folder(data_folder, config=config_rs).split_none().label_from_func(label_pattern)\n",
    "audios.train[1][0].show()"
   ]
  },
  {
   "cell_type": "markdown",
   "metadata": {},
   "source": [
    "##### Split"
   ]
  },
  {
   "cell_type": "code",
   "execution_count": null,
   "metadata": {},
   "outputs": [],
   "source": [
    "config_rs = AudioConfig(remove_silence=\"split\")\n",
    "audios = AudioList.from_folder(data_folder, config=config_rs).split_none().label_from_func(label_pattern)\n",
    "audios.train[2][0].show()"
   ]
  },
  {
   "cell_type": "markdown",
   "metadata": {},
   "source": [
    "##### Trim"
   ]
  },
  {
   "cell_type": "code",
   "execution_count": null,
   "metadata": {},
   "outputs": [],
   "source": [
    "config_rs = AudioConfig(remove_silence=\"trim\")\n",
    "audios = AudioList.from_folder(data_folder, config=config_rs).split_none().label_from_func(label_pattern)\n",
    "audios.train[1][0].show()"
   ]
  },
  {
   "cell_type": "code",
   "execution_count": null,
   "metadata": {
    "scrolled": true
   },
   "outputs": [],
   "source": [
    "config_mfcc_stack = AudioConfig(mfcc=True, delta=True, duration=4000)\n",
    "audios_mfcc_stack = AudioList.from_folder(data_folder, config=config_mfcc_stack).split_by_rand_pct(.2, seed=4).label_from_func(label_pattern)\n",
    "db_mfcc_stack = audios_mfcc_stack.databunch(bs=2)\n",
    "db_mfcc_stack.show_batch(5)"
   ]
  },
  {
   "cell_type": "code",
   "execution_count": null,
   "metadata": {
    "scrolled": true
   },
   "outputs": [],
   "source": [
    "audios_mfcc_stack"
   ]
  },
  {
   "cell_type": "code",
   "execution_count": null,
   "metadata": {},
   "outputs": [],
   "source": [
    "learn = audio_learner(db_mfcc_stack)\n",
    "learn.lr_find()\n",
    "learn.recorder.plot()"
   ]
  },
  {
   "cell_type": "code",
   "execution_count": null,
   "metadata": {},
   "outputs": [],
   "source": [
    "config_sg = AudioConfig(use_spectro=True, duration=4000)\n",
    "db_sg = (AudioList.from_folder(data_folder, config=config_sg)\n",
    "         .split_by_rand_pct(.2, seed=4)\n",
    "         .label_from_func(label_pattern)\n",
    "         .databunch(bs=2))\n",
    "learn = audio_learner(db_sg).mixup()\n",
    "learn.lr_find();learn.recorder.plot()"
   ]
  },
  {
   "cell_type": "markdown",
   "metadata": {},
   "source": [
    "### Transforms"
   ]
  },
  {
   "cell_type": "markdown",
   "metadata": {},
   "source": [
    "##### Size Transform"
   ]
  },
  {
   "cell_type": "code",
   "execution_count": null,
   "metadata": {},
   "outputs": [],
   "source": [
    "tfms = get_spectro_transforms(); tfms"
   ]
  },
  {
   "cell_type": "code",
   "execution_count": null,
   "metadata": {},
   "outputs": [],
   "source": [
    "tfms = get_spectro_transforms(size=(256,250), mask_time=False, mask_frequency=False, roll=False);tfms"
   ]
  },
  {
   "cell_type": "code",
   "execution_count": null,
   "metadata": {},
   "outputs": [],
   "source": [
    "config_sg = AudioConfig(use_spectro=True, duration=4000)\n",
    "db_sg = (AudioList.from_folder(data_folder, config=config_sg)\n",
    "         .split_by_rand_pct(.2, seed=4)\n",
    "         .label_from_func(label_pattern)\n",
    "         .transform(tfms)\n",
    "         .databunch(bs=2))\n",
    "db_sg.show_batch()"
   ]
  },
  {
   "cell_type": "markdown",
   "metadata": {},
   "source": [
    "##### Frequency Masking"
   ]
  },
  {
   "cell_type": "markdown",
   "metadata": {},
   "source": [
    "All of the other transforms will work normally and will be applied to each channel equivalently. "
   ]
  },
  {
   "cell_type": "code",
   "execution_count": null,
   "metadata": {
    "scrolled": true
   },
   "outputs": [],
   "source": [
    "tfms = get_spectro_transforms(mask_time=False, mask_freq=True, roll=False);tfms"
   ]
  },
  {
   "cell_type": "code",
   "execution_count": null,
   "metadata": {},
   "outputs": [],
   "source": [
    "config_sg = AudioConfig(duration=5000)\n",
    "db_sg = (AudioList.from_folder(data_folder, config=config_sg)\n",
    "         .split_by_rand_pct(.2, seed=4)\n",
    "         .label_from_func(label_pattern)\n",
    "         .transform(tfms)\n",
    "         .databunch(bs=2))\n",
    "db_sg.show_batch()"
   ]
  },
  {
   "cell_type": "code",
   "execution_count": null,
   "metadata": {},
   "outputs": [],
   "source": [
    "# use 4 masks of 5 rows each and set the mask_value to be 42\n",
    "tfms = get_spectro_transforms(mask_time=False, mask_freq=True, roll=False, fmasks=4, num_rows=5, fmask_value=42)\n",
    "db_sg = (AudioList.from_folder(data_folder, config=config_sg)\n",
    "         .split_by_rand_pct(.2, seed=4)\n",
    "         .label_from_func(label_pattern)\n",
    "         .transform(tfms)\n",
    "         .databunch(bs=2))\n",
    "db_sg.show_batch()"
   ]
  },
  {
   "cell_type": "markdown",
   "metadata": {},
   "source": [
    "##### Time Masking"
   ]
  },
  {
   "cell_type": "code",
   "execution_count": null,
   "metadata": {},
   "outputs": [],
   "source": [
    "# now let's check out with time and frequency masking, but let's tone down the size a bit\n",
    "config_sg = AudioConfig(use_spectro=True, duration=4000)\n",
    "tfms = get_spectro_transforms(mask_time=True, mask_freq=True, roll=False, num_rows=12, num_cols=8);tfms\n",
    "db_sg = (AudioList.from_folder(data_folder, config=config_sg)\n",
    "         .split_by_rand_pct(.2, seed=4)\n",
    "         .label_from_func(label_pattern)\n",
    "         .transform(tfms)\n",
    "         .databunch(bs=2))\n",
    "db_sg.show_batch()"
   ]
  },
  {
   "cell_type": "markdown",
   "metadata": {},
   "source": [
    "##### Rolling "
   ]
  },
  {
   "cell_type": "code",
   "execution_count": null,
   "metadata": {
    "scrolled": true
   },
   "outputs": [],
   "source": [
    "config_sg = AudioConfig(segment_size=5000, downmix=True)\n",
    "tfms = get_spectro_transforms(mask_time=True, mask_freq=True, roll=True, num_rows=14, num_cols=10);tfms\n",
    "db_sg = (AudioList.from_folder(data_folder, config=config_sg)\n",
    "         .split_by_rand_pct(.2, seed=4)\n",
    "         .label_from_func(label_pattern)\n",
    "         .transform(tfms)\n",
    "         .databunch(bs=2))\n",
    "db_sg.show_batch()"
   ]
  },
  {
   "cell_type": "markdown",
   "metadata": {},
   "source": [
    "### Creating a Learner"
   ]
  },
  {
   "cell_type": "code",
   "execution_count": null,
   "metadata": {},
   "outputs": [],
   "source": [
    "learn = audio_learner(db_sg)\n",
    "learn.lr_find();learn.recorder.plot()"
   ]
  },
  {
   "cell_type": "code",
   "execution_count": null,
   "metadata": {},
   "outputs": [],
   "source": [
    "learn.fit_one_cycle(10, slice(4e-4,4e-3))"
   ]
  },
  {
   "cell_type": "code",
   "execution_count": null,
   "metadata": {},
   "outputs": [],
   "source": []
  }
 ],
 "metadata": {
  "gist": {
   "data": {
    "description": "Multi-Channel Audio Files.ipynb",
    "public": false
   },
   "id": ""
  },
  "kernelspec": {
   "display_name": "Python 3",
   "language": "python",
   "name": "python3"
  },
  "language_info": {
   "codemirror_mode": {
    "name": "ipython",
    "version": 3
   },
   "file_extension": ".py",
   "mimetype": "text/x-python",
   "name": "python",
   "nbconvert_exporter": "python",
   "pygments_lexer": "ipython3",
   "version": "3.7.3"
  }
 },
 "nbformat": 4,
 "nbformat_minor": 2
}
